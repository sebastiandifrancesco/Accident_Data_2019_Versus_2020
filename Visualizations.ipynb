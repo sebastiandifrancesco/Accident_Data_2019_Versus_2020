{
 "cells": [
  {
   "cell_type": "code",
   "execution_count": 1,
   "metadata": {},
   "outputs": [],
   "source": [
    "import pandas as pd\n",
    "import numpy as np"
   ]
  },
  {
   "cell_type": "code",
   "execution_count": 2,
   "metadata": {},
   "outputs": [],
   "source": [
    "accident_df_2019 = pd.read_csv('2019_accident_data_samples.csv')\n",
    "accident_df_2020 = pd.read_csv('2020_accident_data_samples.csv')\n",
    "#accident_df_2020.head()"
   ]
  },
  {
   "cell_type": "code",
   "execution_count": 7,
   "metadata": {},
   "outputs": [],
   "source": [
    "#Divisions = {['Pacific','WA','OR','CA'],\n",
    "#            ['Mountain','MT','ID','NV','WY','UT','CO','AZ','NM'],\n",
    "#            ['West North Central','ND','SD','NE','KS','MN','IA','MO'],\n",
    "#            ['West South Central','TX','OK','AR','LA'],\n",
    "#            ['East North Central','WI','IL','MI','IN','OH'],\n",
    "#            ['East South Central','KY','TN','MS','AL'],\n",
    "#            ['New England','ME','VT','NH','MA','CT','RI'],\n",
    "#            ['Middle Atlantic','NY','NJ','PA'],\n",
    "#            ['South Atlantic','WV','DE','MD','VA','NC','SC','GA','FL']}\n",
    "# Create dfs for each division for 2019\n",
    "pacific_df = accident_df_2019[(accident_df_2019['State'] == 'WA') | (accident_df_2019['State'] == 'OR') | (accident_df_2019['State'] == 'CA')]\n",
    "mountain_df = accident_df_2019[(accident_df_2019['State'] == 'MT') | (accident_df_2019['State'] == 'ID') | (accident_df_2019['State'] == 'NV') | (accident_df_2019['State'] == 'WY') | (accident_df_2019['State'] == 'UT') | (accident_df_2019['State'] == 'CO') | (accident_df_2019['State'] == 'AZ') | (accident_df_2019['State'] == 'NM')]\n",
    "west_north_central_df = accident_df_2019[(accident_df_2019['State'] == 'ND') | (accident_df_2019['State'] == 'SD') | (accident_df_2019['State'] == 'NE') | (accident_df_2019['State'] == 'KS') | (accident_df_2019['State'] == 'MN') | (accident_df_2019['State'] == 'IA') | (accident_df_2019['State'] == 'MO')]\n",
    "west_south_central_df = accident_df_2019[(accident_df_2019['State'] == 'TX') | (accident_df_2019['State'] == 'OK') | (accident_df_2019['State'] == 'AR') | (accident_df_2019['State'] == 'LA')]\n",
    "east_north_central_df = accident_df_2019[(accident_df_2019['State'] == 'WI') | (accident_df_2019['State'] == 'IL') | (accident_df_2019['State'] == 'MI') | (accident_df_2019['State'] == 'IN') | (accident_df_2019['State'] == 'OH')]\n",
    "east_south_central_df = accident_df_2019[(accident_df_2019['State'] == 'KY') | (accident_df_2019['State'] == 'TN') | (accident_df_2019['State'] == 'MS') | (accident_df_2019['State'] == 'AL')]\n",
    "new_england_df = accident_df_2019[(accident_df_2019['State'] == 'ME') | (accident_df_2019['State'] == 'VT') | (accident_df_2019['State'] == 'NH') | (accident_df_2019['State'] == 'MA') | (accident_df_2019['State'] == 'RI')]\n",
    "middle_atlantic_df = accident_df_2019[(accident_df_2019['State'] == 'NY') | (accident_df_2019['State'] == 'NJ') | (accident_df_2019['State'] == 'PA')]\n",
    "south_atlantic_df = accident_df_2019[(accident_df_2019['State'] == 'WV') | (accident_df_2019['State'] == 'DE') | (accident_df_2019['State'] == 'MD') | (accident_df_2019['State'] == 'VA') | (accident_df_2019['State'] == 'NC') | (accident_df_2019['State'] == 'SC') | (accident_df_2019['State'] == 'GA') | (accident_df_2019['State'] == 'FL')]\n",
    "\n",
    "# Create dfs for each division for 2020\n",
    "pacific_df = accident_df_2020[(accident_df_2020['State'] == 'WA') | (accident_df_2020['State'] == 'OR') | (accident_df_2020['State'] == 'CA')]\n",
    "mountain_df = accident_df_2020[(accident_df_2020['State'] == 'MT') | (accident_df_2020['State'] == 'ID') | (accident_df_2020['State'] == 'NV') | (accident_df_2020['State'] == 'WY') | (accident_df_2020['State'] == 'UT') | (accident_df_2020['State'] == 'CO') | (accident_df_2020['State'] == 'AZ') | (accident_df_2020['State'] == 'NM')]\n",
    "west_north_central_df = accident_df_2020[(accident_df_2020['State'] == 'ND') | (accident_df_2020['State'] == 'SD') | (accident_df_2020['State'] == 'NE') | (accident_df_2020['State'] == 'KS') | (accident_df_2020['State'] == 'MN') | (accident_df_2020['State'] == 'IA') | (accident_df_2020['State'] == 'MO')]\n",
    "west_south_central_df = accident_df_2020[(accident_df_2020['State'] == 'TX') | (accident_df_2020['State'] == 'OK') | (accident_df_2020['State'] == 'AR') | (accident_df_2020['State'] == 'LA')]\n",
    "east_north_central_df = accident_df_2020[(accident_df_2020['State'] == 'WI') | (accident_df_2020['State'] == 'IL') | (accident_df_2020['State'] == 'MI') | (accident_df_2020['State'] == 'IN') | (accident_df_2020['State'] == 'OH')]\n",
    "east_south_central_df = accident_df_2020[(accident_df_2020['State'] == 'KY') | (accident_df_2020['State'] == 'TN') | (accident_df_2020['State'] == 'MS') | (accident_df_2020['State'] == 'AL')]\n",
    "new_england_df = accident_df_2020[(accident_df_2020['State'] == 'ME') | (accident_df_2020['State'] == 'VT') | (accident_df_2020['State'] == 'NH') | (accident_df_2020['State'] == 'MA') | (accident_df_2020['State'] == 'RI')]\n",
    "middle_atlantic_df = accident_df_2020[(accident_df_2020['State'] == 'NY') | (accident_df_2020['State'] == 'NJ') | (accident_df_2020['State'] == 'PA')]\n",
    "south_atlantic_df = accident_df_2020[(accident_df_2020['State'] == 'WV') | (accident_df_2020['State'] == 'DE') | (accident_df_2020['State'] == 'MD') | (accident_df_2020['State'] == 'VA') | (accident_df_2020['State'] == 'NC') | (accident_df_2020['State'] == 'SC') | (accident_df_2020['State'] == 'GA') | (accident_df_2020['State'] == 'FL')]"
   ]
  }
 ],
 "metadata": {
  "kernelspec": {
   "display_name": "Python 3",
   "language": "python",
   "name": "python3"
  },
  "language_info": {
   "codemirror_mode": {
    "name": "ipython",
    "version": 3
   },
   "file_extension": ".py",
   "mimetype": "text/x-python",
   "name": "python",
   "nbconvert_exporter": "python",
   "pygments_lexer": "ipython3",
   "version": "3.7.6"
  }
 },
 "nbformat": 4,
 "nbformat_minor": 4
}
