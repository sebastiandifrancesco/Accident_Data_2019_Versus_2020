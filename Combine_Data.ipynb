{
 "cells": [
  {
   "cell_type": "code",
   "execution_count": 1,
   "metadata": {},
   "outputs": [],
   "source": [
    "import pandas as pd"
   ]
  },
  {
   "cell_type": "code",
   "execution_count": 2,
   "metadata": {},
   "outputs": [],
   "source": [
    "# Concatenate the 2019 csv files into one dataframe.\n",
    "east_north_central_div_2019 = pd.read_csv('2019_east_north_central_division.csv')\n",
    "east_south_central_div_2019 = pd.read_csv('2019_east_south_central_division.csv')\n",
    "middle_atlantic_div_2019 = pd.read_csv('2019_middle_atlantic_division.csv')\n",
    "mountain_div_2019 = pd.read_csv('2019_mountain_division.csv')\n",
    "new_england_div_2019 = pd.read_csv('2019_new_england_division.csv')\n",
    "pacific_div_2019 = pd.read_csv('2019_pacific_division.csv')\n",
    "south_atlantic_div_2019 = pd.read_csv('2019_south_atlantic_division.csv')\n",
    "west_north_central_div_2019 = pd.read_csv('2019_west_north_central_division.csv')\n",
    "west_south_central_div_2019 = pd.read_csv('2019_west_south_central_division.csv')\n",
    "frames = [east_north_central_div_2019,\n",
    "          east_south_central_div_2019,\n",
    "          middle_atlantic_div_2019,\n",
    "          mountain_div_2019,\n",
    "          new_england_div_2019,\n",
    "          pacific_div_2019,\n",
    "          south_atlantic_div_2019,\n",
    "          west_north_central_div_2019,\n",
    "          west_south_central_div_2019]\n",
    "accident_data_samples_2019 = pd.concat(frames)\n",
    "#accident_data_samples_2019.head()\n",
    "#len(accident_data_samples_2019)\n",
    "\n",
    "# Concatenate the 2020 csv files into one dataframe.\n",
    "east_north_central_div_2020 = pd.read_csv('2020_east_north_central_division.csv')\n",
    "east_south_central_div_2020 = pd.read_csv('2020_east_south_central_division.csv')\n",
    "middle_atlantic_div_2020 = pd.read_csv('2020_middle_atlantic_division.csv')\n",
    "mountain_div_2020 = pd.read_csv('2020_mountain_division.csv')\n",
    "new_england_div_2020 = pd.read_csv('2020_new_england_division.csv')\n",
    "pacific_div_2020 = pd.read_csv('2020_pacific_division.csv')\n",
    "south_atlantic_div_2020 = pd.read_csv('2020_south_atlantic_division.csv')\n",
    "west_north_central_div_2020 = pd.read_csv('2020_west_north_central_division.csv')\n",
    "west_south_central_div_2020 = pd.read_csv('2020_west_south_central_division.csv')\n",
    "frames = [east_north_central_div_2020,\n",
    "          east_south_central_div_2020,\n",
    "          middle_atlantic_div_2020,\n",
    "          mountain_div_2020,\n",
    "          new_england_div_2020,\n",
    "          pacific_div_2020,\n",
    "          south_atlantic_div_2020,\n",
    "          west_north_central_div_2020,\n",
    "          west_south_central_div_2020]\n",
    "accident_data_samples_2020 = pd.concat(frames)\n",
    "#accident_data_samples_2020.head()\n",
    "#len(accident_data_samples_2020)"
   ]
  },
  {
   "cell_type": "code",
   "execution_count": 3,
   "metadata": {},
   "outputs": [],
   "source": [
    "# Save both dfs as csvs\n",
    "accident_data_samples_2019.to_csv('2019_accident_data_samples.csv', index=False)\n",
    "accident_data_samples_2020.to_csv('2020_accident_data_samples.csv', index=False)"
   ]
  }
 ],
 "metadata": {
  "kernelspec": {
   "display_name": "Python 3",
   "language": "python",
   "name": "python3"
  },
  "language_info": {
   "codemirror_mode": {
    "name": "ipython",
    "version": 3
   },
   "file_extension": ".py",
   "mimetype": "text/x-python",
   "name": "python",
   "nbconvert_exporter": "python",
   "pygments_lexer": "ipython3",
   "version": "3.7.6"
  }
 },
 "nbformat": 4,
 "nbformat_minor": 4
}
